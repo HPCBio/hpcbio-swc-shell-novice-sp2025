{
 "cells": [
  {
   "cell_type": "markdown",
   "metadata": {},
   "source": [
    "# Miniconda Setup Instructions\n",
    "\n",
    "## Step 1: Install Miniconda \n",
    "\n",
    "To install Miniconda, follow these instructions: https://conda.io/docs/install/quick.html\n",
    "\n",
    "Make sure to download the Python 3.6 version from the installation page: https://conda.io/miniconda.html\n",
    "\n",
    "\n",
    "## Step 2: Setup an environment\n",
    "Open up Anaconda prompt and type in or copy the command below"
   ]
  },
  {
   "cell_type": "code",
   "execution_count": null,
   "metadata": {
    "collapsed": true
   },
   "outputs": [],
   "source": [
    "!conda create -n swc python=3.6 m2-base jupyter m2-git sqlite r-essentials rpy2 m2-make "
   ]
  },
  {
   "cell_type": "markdown",
   "metadata": {},
   "source": [
    "## Step 3: Open the environment you created\n",
    "If you use Windows, type !activate swc below\n",
    "If you use Linux or OS X, type !source activate swc below"
   ]
  },
  {
   "cell_type": "code",
   "execution_count": null,
   "metadata": {
    "collapsed": true
   },
   "outputs": [],
   "source": [
    "!activate swc"
   ]
  },
  {
   "cell_type": "markdown",
   "metadata": {},
   "source": [
    "## Step 4: Open up Jupyter QtConsole"
   ]
  },
  {
   "cell_type": "code",
   "execution_count": null,
   "metadata": {
    "collapsed": true
   },
   "outputs": [],
   "source": [
    "!jupyter qtconsole"
   ]
  },
  {
   "cell_type": "markdown",
   "metadata": {
    "deletable": true,
    "editable": true
   },
   "source": [
    "You are now ready for every Software and Data Carpentry lesson!"
   ]
  }
 ],
 "metadata": {
  "kernelspec": {
   "display_name": "Python 3",
   "language": "python",
   "name": "python3"
  },
  "language_info": {
   "codemirror_mode": {
    "name": "ipython",
    "version": 3
   },
   "file_extension": ".py",
   "mimetype": "text/x-python",
   "name": "python",
   "nbconvert_exporter": "python",
   "pygments_lexer": "ipython3",
   "version": "3.6.0"
  }
 },
 "nbformat": 4,
 "nbformat_minor": 2
}
